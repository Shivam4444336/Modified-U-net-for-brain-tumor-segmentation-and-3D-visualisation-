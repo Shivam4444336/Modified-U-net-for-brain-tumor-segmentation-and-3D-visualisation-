{
  "nbformat": 4,
  "nbformat_minor": 0,
  "metadata": {
    "colab": {
      "name": "Batch_Data_Generator.ipynb",
      "provenance": [],
      "authorship_tag": "ABX9TyNMw3f0de55tn/S2EktEgX5"
    },
    "kernelspec": {
      "name": "python3",
      "display_name": "Python 3"
    },
    "language_info": {
      "name": "python"
    }
  },
  "cells": [
    {
      "cell_type": "code",
      "metadata": {
        "id": "bqp4L1mYSoCd"
      },
      "source": [
        "\n",
        "class DataGenerator(Sequence):\n",
        "  def __init__(self,Id,datapath):\n",
        "    self.Id = Id\n",
        "    self.datapath = datapath\n",
        "  def __getitem__(self, index):\n",
        "    string_directive = self.Id[index]\n",
        "    X1, X2 = self.mode(string_directive)\n",
        "    return X1,X2\n",
        "  def __len__(self):\n",
        "    return len(self.Id)\n",
        "  def mode(self,string_directive):\n",
        "    data_object = h5py.File(self.datapath + string_directive, 'r')\n",
        "    data = np.array(data_object['data'])\n",
        "    mask = np.array(data_object['mask'])\n",
        "    data,mask = direct_grid_distortion(data,mask)\n",
        "    mask = np.swapaxes(mask,0,1)\n",
        "    mask = np.expand_dims(mask,0)\n",
        "    data = np.swapaxes(data,0,1)\n",
        "    data_  = np.zeros(data.shape)\n",
        "    for i in range(4):\n",
        "      data_[:,:,:,i] = (data[:,:,:,i] - np.min(data[:,:,:,i]))/(np.max(data[:,:,:,i])-np.min(data[:,:,:,i]))\n",
        "    data_ = np.expand_dims(data_,0)\n",
        "    return data_,mask\n",
        "    \n",
        "  \n",
        "\n"
      ],
      "execution_count": null,
      "outputs": []
    }
  ]
}